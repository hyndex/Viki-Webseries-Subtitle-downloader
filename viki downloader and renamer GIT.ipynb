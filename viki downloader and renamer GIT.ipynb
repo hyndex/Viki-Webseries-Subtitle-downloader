{
 "cells": [
  {
   "cell_type": "code",
   "execution_count": 1,
   "metadata": {},
   "outputs": [],
   "source": [
    "from selenium import webdriver\n",
    "from webdriver_manager.chrome import ChromeDriverManager\n",
    "from bs4 import BeautifulSoup\n",
    "import urllib.request\n",
    "import time\n",
    "\n",
    "def Remove(duplicate): \n",
    "    final_list = [] \n",
    "    for num in duplicate: \n",
    "        if num not in final_list: \n",
    "            final_list.append(num) \n",
    "    return final_list \n",
    "driver = webdriver.Chrome(ChromeDriverManager().install())\n",
    "url=input('enter the viki webseries url: ')\n",
    "driver.get(url)\n",
    "time.sleep(5)\n",
    "driver.find_element_by_id('horizontal_tab_episodes').click()\n",
    "links=[]\n",
    "time.sleep(5)\n",
    "tabs = driver.find_elements_by_class_name('sc-1dg0jos-0')\n",
    "for tab in tabs:\n",
    "    tab.click()\n",
    "    time.sleep(5)\n",
    "    html = driver.find_element_by_class_name('bjutxy-2')\n",
    "    html = html.get_attribute('innerHTML')\n",
    "    for j in range(len(html.split('\"/video'))-1):\n",
    "        i=j+1\n",
    "        temp=html.split('\"/video')[i]\n",
    "        temp='https://www.viki.com/video'+temp.split('\"')[0]\n",
    "        links.append(temp)\n",
    "        \n",
    "count=0\n",
    "driver.maximize_window()\n",
    "for link in links:\n",
    "    count=count+1\n",
    "    print(count)\n",
    "    driver.get('https://savesubs.com/process?url='+link)\n",
    "    time.sleep(5)\n",
    "    for i in driver.find_elements_by_css_selector(\"li\"):\n",
    "        if i.get_attribute('innerHTML').count('ENGLISH')>0:\n",
    "            i.find_element_by_link_text('SRT').click()\n",
    "    time.sleep(10)"
   ]
  }
 ],
 "metadata": {
  "kernelspec": {
   "display_name": "Python 3",
   "language": "python",
   "name": "python3"
  },
  "language_info": {
   "codemirror_mode": {
    "name": "ipython",
    "version": 3
   },
   "file_extension": ".py",
   "mimetype": "text/x-python",
   "name": "python",
   "nbconvert_exporter": "python",
   "pygments_lexer": "ipython3",
   "version": "3.6.5"
  }
 },
 "nbformat": 4,
 "nbformat_minor": 2
}
